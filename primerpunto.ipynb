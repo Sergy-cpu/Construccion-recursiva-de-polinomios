{
  "nbformat": 4,
  "nbformat_minor": 0,
  "metadata": {
    "colab": {
      "name": "Untitled1.ipynb",
      "provenance": [],
      "authorship_tag": "ABX9TyOkPAMFF27vFEFW309WGOSQ",
      "include_colab_link": true
    },
    "kernelspec": {
      "name": "python3",
      "display_name": "Python 3"
    },
    "language_info": {
      "name": "python"
    }
  },
  "cells": [
    {
      "cell_type": "markdown",
      "metadata": {
        "id": "view-in-github",
        "colab_type": "text"
      },
      "source": [
        "<a href=\"https://colab.research.google.com/github/Sergy-cpu/Construccion-recursiva-de-polinomios/blob/main/primerpunto.ipynb\" target=\"_parent\"><img src=\"https://colab.research.google.com/assets/colab-badge.svg\" alt=\"Open In Colab\"/></a>"
      ]
    },
    {
      "cell_type": "code",
      "metadata": {
        "id": "b4EH8iD97pu3"
      },
      "source": [
        "from sympy import*\n",
        "import numpy as np\n",
        "import pandas as pd\n",
        "import matplotlib.pyplot as plt"
      ],
      "execution_count": 7,
      "outputs": []
    },
    {
      "cell_type": "code",
      "metadata": {
        "id": "Shenha7o8rfj"
      },
      "source": [
        "x, n = symbols('x n', integer = True)"
      ],
      "execution_count": 9,
      "outputs": []
    },
    {
      "cell_type": "code",
      "metadata": {
        "colab": {
          "base_uri": "https://localhost:8080/",
          "height": 38
        },
        "id": "K4o-fKKxEm6c",
        "outputId": "80f6c86d-0157-4d33-f4c5-a1c150d75d7f"
      },
      "source": [
        "#definir funciones\n",
        "p1= x-2\n",
        "p1"
      ],
      "execution_count": 23,
      "outputs": [
        {
          "output_type": "execute_result",
          "data": {
            "text/latex": "$\\displaystyle x - 2$",
            "text/plain": [
              "x - 2"
            ]
          },
          "metadata": {},
          "execution_count": 23
        }
      ]
    },
    {
      "cell_type": "code",
      "metadata": {
        "colab": {
          "base_uri": "https://localhost:8080/",
          "height": 38
        },
        "id": "dcUnYfFeHkyv",
        "outputId": "1f564c21-9c92-4e2e-9ed4-59e5bd897587"
      },
      "source": [
        "p2 = x**2+x\n",
        "p2"
      ],
      "execution_count": 22,
      "outputs": [
        {
          "output_type": "execute_result",
          "data": {
            "text/latex": "$\\displaystyle x^{2} + x$",
            "text/plain": [
              "x**2 + x"
            ]
          },
          "metadata": {},
          "execution_count": 22
        }
      ]
    },
    {
      "cell_type": "code",
      "metadata": {
        "id": "USfB9TQrHnuf"
      },
      "source": [
        "def polinomios(n=2):\n",
        "  polinomios = [x-2,x**2+x]\n",
        "\n",
        "  for i in range(2, n+1):\n",
        "    pn = polinomios[i-1]*(x/2) -x*polinomios[i-2]*(x/4)\n",
        "    polinomios.append(pn.expand())\n",
        " \n",
        "  return polinomios"
      ],
      "execution_count": 28,
      "outputs": []
    },
    {
      "cell_type": "code",
      "metadata": {
        "id": "tSKXFrCwJUAg"
      },
      "source": [
        "p50= polinomios(50)"
      ],
      "execution_count": 29,
      "outputs": []
    },
    {
      "cell_type": "code",
      "metadata": {
        "colab": {
          "base_uri": "https://localhost:8080/",
          "height": 54
        },
        "id": "ptRduXAdKJJb",
        "outputId": "69183361-26d6-4e70-8400-45ea3dfd67ec"
      },
      "source": [
        "p50[50]"
      ],
      "execution_count": 30,
      "outputs": [
        {
          "output_type": "execute_result",
          "data": {
            "text/latex": "$\\displaystyle \\frac{x^{51}}{1125899906842624} + \\frac{x^{50}}{281474976710656}$",
            "text/plain": [
              "x**51/1125899906842624 + x**50/281474976710656"
            ]
          },
          "metadata": {},
          "execution_count": 30
        }
      ]
    },
    {
      "cell_type": "code",
      "metadata": {
        "id": "sJRhosYIKMNG"
      },
      "source": [
        ""
      ],
      "execution_count": null,
      "outputs": []
    }
  ]
}